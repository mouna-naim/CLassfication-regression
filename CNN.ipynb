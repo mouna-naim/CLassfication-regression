{
 "cells": [
  {
   "cell_type": "markdown",
   "metadata": {},
   "source": [
    "Convolutional neural networks \n",
    "\n",
    "This work is based on the MNIST dataset, in which each image is indexed by a number between 0 and 9."
   ]
  },
  {
   "cell_type": "code",
   "execution_count": 1,
   "metadata": {},
   "outputs": [],
   "source": [
    "from torchvision import datasets\n",
    "import torchvision.transforms as transforms\n",
    "\n",
    "transform = transforms.ToTensor() # convert data to torch.FloatTensor\n",
    "\n",
    "train_data = datasets.MNIST(root = 'data', train = True, download = True, transform = transform)\n",
    "test_data = datasets.MNIST(root = 'data', train = False, download = True, transform = transform)"
   ]
  },
  {
   "cell_type": "markdown",
   "metadata": {},
   "source": [
    "Create data loaders for training, validation and test sets."
   ]
  },
  {
   "cell_type": "code",
   "execution_count": 2,
   "metadata": {},
   "outputs": [],
   "source": [
    "import torch\n",
    "from torch.utils.data.sampler import SubsetRandomSampler\n",
    "import numpy as np"
   ]
  },
  {
   "cell_type": "markdown",
   "metadata": {},
   "source": [
    "Documentation of Data loaders: https://pytorch.org/docs/stable/data.html"
   ]
  },
  {
   "cell_type": "code",
   "execution_count": 3,
   "metadata": {},
   "outputs": [],
   "source": [
    "#Let's define how many samples per batch to load\n",
    "batch_size = 20\n",
    "#Percentage of training set to use as a validation set\n",
    "valid_size = 0.2\n",
    "\n",
    "def create_data_loaders(batch_size, valid_size, train_data, test_data):\n",
    "    indices = list(range(len(train_data)))\n",
    "    np.random.shuffle(indices)\n",
    "    split = int(np.floor(valid_size*len(train_data)))\n",
    "    train_index, valid_index = indices[:split], indices[split:]\n",
    "    train_sampler = SubsetRandomSampler(train_index)\n",
    "    valid_sampler = SubsetRandomSampler(valid_index)\n",
    "    train_loader = torch.utils.data.DataLoader(train_data, batch_size = batch_size, sampler = train_sampler)\n",
    "    valid_loader = torch.utils.data.DataLoader(train_data, batch_size = batch_size, sampler = valid_sampler)\n",
    "    test_loader = torch.utils.data.DataLoader(test_data, batch_size = batch_size)\n",
    "    return train_loader, valid_loader, test_loader\n"
   ]
  },
  {
   "cell_type": "code",
   "execution_count": 4,
   "metadata": {},
   "outputs": [],
   "source": [
    "train_loader, valid_loader, test_loader = create_data_loaders(20, 0.2, train_data, test_data)"
   ]
  },
  {
   "cell_type": "code",
   "execution_count": 5,
   "metadata": {},
   "outputs": [
    {
     "data": {
      "image/png": "[encoded data removed]",
      "text/plain": [
       "<Figure size 2500x400 with 20 Axes>"
      ]
     },
     "metadata": {},
     "output_type": "display_data"
    }
   ],
   "source": [
    "import matplotlib.pyplot as plt \n",
    "import numpy as np\n",
    "%matplotlib inline\n",
    "\n",
    "data_iter = iter(train_loader)\n",
    "images, labels = next(data_iter)\n",
    "images = images.numpy()\n",
    "\n",
    "fig = plt.figure(figsize=(25, 4))\n",
    "for idx in np.arange(20):\n",
    "    ax = fig.add_subplot(2, 10, idx+1, xticks=[], yticks=[])\n",
    "    ax.imshow(np.squeeze(images[idx]), cmap='gray')\n",
    "    ax.set_title(str(labels[idx].item()))\n"
   ]
  },
  {
   "cell_type": "markdown",
   "metadata": {},
   "source": [
    "References: \n",
    "\n",
    "-nn.Conv2D: https://pytorch.org/docs/stable/generated/torch.nn.Conv2d.html\n",
    "\n",
    "-max-pooling layer using nn.MaxPool2D: https://pytorch.org/docs/stable/generated/torch.nn.MaxPool2d.html\n",
    "\n",
    "-nn.Linear: https://pytorch.org/docs/stable/generated/torch.nn.Linear.html\n",
    "\n"
   ]
  },
  {
   "cell_type": "code",
   "execution_count": 6,
   "metadata": {},
   "outputs": [],
   "source": [
    "import torch.nn as nn \n",
    "import torch.nn.functional as F\n",
    "\n",
    "class Net1(nn.Module):\n",
    "\n",
    "    def __init__(self):\n",
    "        super(Net1, self).__init__()\n",
    "        self.fc1 = nn.Conv2d(1, 32, kernel_size = (3,3), stride= 1)\n",
    "        self.fc2 = nn.Conv2d(32, 32, kernel_size = (3,3), stride = 1)\n",
    "        self.fc3 = nn.MaxPool2d((2, 2))\n",
    "        self.fc4 = nn.Linear(32 * 12 * 12, 10)\n",
    "\n",
    "    def forward(self, x):\n",
    "        x = self.fc1(x)\n",
    "        x = F.relu(x)\n",
    "        x = self.fc2(x)\n",
    "        x = F.relu(x)\n",
    "        x = self.fc3(x)\n",
    "        x = x.view(-1,32*12*12)\n",
    "        out = self.fc4(x)\n",
    "        return out"
   ]
  },
  {
   "cell_type": "code",
   "execution_count": 7,
   "metadata": {},
   "outputs": [
    {
     "name": "stdout",
     "output_type": "stream",
     "text": [
      "Using device cpu\n"
     ]
    }
   ],
   "source": [
    "device = torch.device('cuda' if torch.cuda.is_available() else 'cpu')\n",
    "print('Using device '+str(device))"
   ]
  },
  {
   "cell_type": "code",
   "execution_count": 9,
   "metadata": {},
   "outputs": [
    {
     "name": "stdout",
     "output_type": "stream",
     "text": [
      "----------------------------------------------------------------\n",
      "        Layer (type)               Output Shape         Param #\n",
      "================================================================\n",
      "            Conv2d-1           [-1, 32, 26, 26]             320\n",
      "            Conv2d-2           [-1, 32, 24, 24]           9,248\n",
      "         MaxPool2d-3           [-1, 32, 12, 12]               0\n",
      "            Linear-4                   [-1, 10]          46,090\n",
      "================================================================\n",
      "Total params: 55,658\n",
      "Trainable params: 55,658\n",
      "Non-trainable params: 0\n",
      "----------------------------------------------------------------\n",
      "Input size (MB): 0.00\n",
      "Forward/backward pass size (MB): 0.34\n",
      "Params size (MB): 0.21\n",
      "Estimated Total Size (MB): 0.56\n",
      "----------------------------------------------------------------\n"
     ]
    }
   ],
   "source": [
    "from torchsummary import summary\n",
    "\n",
    "cnn_1 = Net1() # initialize the neural network\n",
    "cnn_1.to(device=device)\n",
    "\n",
    "summary(cnn_1, (1, 28, 28))\n"
   ]
  },
  {
   "cell_type": "code",
   "execution_count": 10,
   "metadata": {},
   "outputs": [],
   "source": [
    "criterion = nn.CrossEntropyLoss()\n",
    "optimizer = torch.optim.SGD(cnn_1.parameters(),lr = 0.01)"
   ]
  },
  {
   "cell_type": "code",
   "execution_count": 11,
   "metadata": {},
   "outputs": [],
   "source": [
    "n_epochs = 20 # number of epochs to train the model\n",
    "\n",
    "def training(n_epochs, train_loader, valid_loader, model, criterion, optimizer):\n",
    "\n",
    "  train_losses, valid_losses = [], []\n",
    "  # initialize tracker for minimum validation loss\n",
    "  valid_loss_min = np.Inf  # set initial \"min\" to infinity\n",
    "\n",
    "  for epoch in range(n_epochs):\n",
    "      train_loss, valid_loss = 0, 0 # monitor losses\n",
    "\n",
    "      # train the model\n",
    "      model.train() # prep model for training\n",
    "      for data, label in train_loader:\n",
    "          data = data.to(device=device, dtype=torch.float32)\n",
    "          label = label.to(device=device, dtype=torch.long)\n",
    "          optimizer.zero_grad()\n",
    "          output = model(data)\n",
    "          loss = criterion(output, label)\n",
    "          loss.backward()\n",
    "          optimizer.step()\n",
    "          train_loss += loss.item() * data.size(0) # update running training loss\n",
    "\n",
    "      # validate the model\n",
    "      model.eval()\n",
    "      for data, label in valid_loader:\n",
    "          data = data.to(device=device, dtype=torch.float32)\n",
    "          label = label.to(device=device, dtype=torch.long)\n",
    "          with torch.no_grad():\n",
    "            output = model(data)\n",
    "            loss = criterion(output, label)\n",
    "          valid_loss += loss.item() * data.size(0)\n",
    "\n",
    "      # calculate average loss over an epoch\n",
    "      train_loss /= len(train_loader.sampler)\n",
    "      valid_loss /= len(valid_loader.sampler)\n",
    "      train_losses.append(train_loss)\n",
    "      valid_losses.append(valid_loss)\n",
    "\n",
    "      print('epoch: {} \\ttraining Loss: {:.6f} \\tvalidation Loss: {:.6f}'.format(epoch+1, train_loss, valid_loss))\n",
    "\n",
    "      # save model if validation loss has decreased\n",
    "      if valid_loss <= valid_loss_min:\n",
    "          print('validation loss decreased ({:.6f} --> {:.6f}).  Saving model ...'.format(\n",
    "          valid_loss_min,\n",
    "          valid_loss))\n",
    "          torch.save(model.state_dict(), 'model.pt')\n",
    "          valid_loss_min = valid_loss\n",
    "\n",
    "  return train_losses, valid_losses"
   ]
  },
  {
   "cell_type": "code",
   "execution_count": 12,
   "metadata": {},
   "outputs": [
    {
     "name": "stdout",
     "output_type": "stream",
     "text": [
      "epoch: 1 \ttraining Loss: 0.718688 \tvalidation Loss: 0.367176\n",
      "validation loss decreased (inf --> 0.367176).  Saving model ...\n",
      "epoch: 2 \ttraining Loss: 0.369126 \tvalidation Loss: 0.340938\n",
      "validation loss decreased (0.367176 --> 0.340938).  Saving model ...\n",
      "epoch: 3 \ttraining Loss: 0.317643 \tvalidation Loss: 0.330140\n",
      "validation loss decreased (0.340938 --> 0.330140).  Saving model ...\n",
      "epoch: 4 \ttraining Loss: 0.270352 \tvalidation Loss: 0.260710\n",
      "validation loss decreased (0.330140 --> 0.260710).  Saving model ...\n",
      "epoch: 5 \ttraining Loss: 0.217646 \tvalidation Loss: 0.215650\n",
      "validation loss decreased (0.260710 --> 0.215650).  Saving model ...\n",
      "epoch: 6 \ttraining Loss: 0.175635 \tvalidation Loss: 0.186025\n",
      "validation loss decreased (0.215650 --> 0.186025).  Saving model ...\n",
      "epoch: 7 \ttraining Loss: 0.141960 \tvalidation Loss: 0.157219\n",
      "validation loss decreased (0.186025 --> 0.157219).  Saving model ...\n",
      "epoch: 8 \ttraining Loss: 0.118092 \tvalidation Loss: 0.162093\n",
      "epoch: 9 \ttraining Loss: 0.102595 \tvalidation Loss: 0.132251\n",
      "validation loss decreased (0.157219 --> 0.132251).  Saving model ...\n",
      "epoch: 10 \ttraining Loss: 0.089438 \tvalidation Loss: 0.122672\n",
      "validation loss decreased (0.132251 --> 0.122672).  Saving model ...\n",
      "epoch: 11 \ttraining Loss: 0.080557 \tvalidation Loss: 0.118443\n",
      "validation loss decreased (0.122672 --> 0.118443).  Saving model ...\n",
      "epoch: 12 \ttraining Loss: 0.071170 \tvalidation Loss: 0.119939\n",
      "epoch: 13 \ttraining Loss: 0.064804 \tvalidation Loss: 0.102781\n",
      "validation loss decreased (0.118443 --> 0.102781).  Saving model ...\n",
      "epoch: 14 \ttraining Loss: 0.058156 \tvalidation Loss: 0.102223\n",
      "validation loss decreased (0.102781 --> 0.102223).  Saving model ...\n",
      "epoch: 15 \ttraining Loss: 0.051873 \tvalidation Loss: 0.106500\n",
      "epoch: 16 \ttraining Loss: 0.048827 \tvalidation Loss: 0.098206\n",
      "validation loss decreased (0.102223 --> 0.098206).  Saving model ...\n",
      "epoch: 17 \ttraining Loss: 0.043877 \tvalidation Loss: 0.102084\n",
      "epoch: 18 \ttraining Loss: 0.040139 \tvalidation Loss: 0.111872\n",
      "epoch: 19 \ttraining Loss: 0.037824 \tvalidation Loss: 0.100863\n",
      "epoch: 20 \ttraining Loss: 0.035157 \tvalidation Loss: 0.097506\n",
      "validation loss decreased (0.098206 --> 0.097506).  Saving model ...\n"
     ]
    }
   ],
   "source": [
    "train_losses_1, valid_losses_1 = training(n_epochs, train_loader, valid_loader, cnn_1, criterion, optimizer)"
   ]
  },
  {
   "cell_type": "code",
   "execution_count": 14,
   "metadata": {},
   "outputs": [
    {
     "data": {
      "text/plain": [
       "Text(0, 0.5, 'loss value')"
      ]
     },
     "execution_count": 14,
     "metadata": {},
     "output_type": "execute_result"
    },
    {
     "data": {
      "image/png": "[encoded data removed]",
      "text/plain": [
       "<Figure size 640x480 with 1 Axes>"
      ]
     },
     "metadata": {},
     "output_type": "display_data"
    }
   ],
   "source": [
    "#Convergence?\n",
    "plt.plot(range(n_epochs), train_losses_1)\n",
    "plt.plot(range(n_epochs), valid_losses_1)\n",
    "plt.legend(['training', 'validation'], prop={'size': 10})\n",
    "plt.title('loss function', size=10)\n",
    "plt.xlabel('epoch', size=10)\n",
    "plt.ylabel('loss value', size=10)"
   ]
  },
  {
   "cell_type": "code",
   "execution_count": null,
   "metadata": {},
   "outputs": [],
   "source": []
  }
 ],
 "metadata": {
  "kernelspec": {
   "display_name": "Python 3",
   "language": "python",
   "name": "python3"
  },
  "language_info": {
   "codemirror_mode": {
    "name": "ipython",
    "version": 3
   },
   "file_extension": ".py",
   "mimetype": "text/x-python",
   "name": "python",
   "nbconvert_exporter": "python",
   "pygments_lexer": "ipython3",
   "version": "3.11.6"
  }
 },
 "nbformat": 4,
 "nbformat_minor": 2
}
